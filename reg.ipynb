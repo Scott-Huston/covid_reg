{
 "nbformat": 4,
 "nbformat_minor": 2,
 "metadata": {
  "language_info": {
   "name": "python",
   "codemirror_mode": {
    "name": "ipython",
    "version": 3
   },
   "version": "3.7.5-final"
  },
  "orig_nbformat": 2,
  "file_extension": ".py",
  "mimetype": "text/x-python",
  "name": "python",
  "npconvert_exporter": "python",
  "pygments_lexer": "ipython3",
  "version": 3,
  "kernelspec": {
   "name": "python37564bitenvvirtualenv50de9cf6705248388475c22e569ed828",
   "display_name": "Python 3.7.5 64-bit ('env': virtualenv)"
  }
 },
 "cells": [
  {
   "cell_type": "code",
   "execution_count": 1,
   "metadata": {},
   "outputs": [],
   "source": [
    "import pandas as pd\n",
    "import numpy as np\n",
    "import requests"
   ]
  },
  {
   "cell_type": "code",
   "execution_count": 40,
   "metadata": {},
   "outputs": [],
   "source": [
    "# Read death data from JHU\n",
    "us_deaths = pd.read_csv('https://raw.githubusercontent.com/CSSEGISandData/COVID-19/master/csse_covid_19_data/csse_covid_19_time_series/time_series_covid19_deaths_US.csv')\n",
    "\n",
    "world_deaths = pd.read_csv('https://raw.githubusercontent.com/CSSEGISandData/COVID-19/master/csse_covid_19_data/csse_covid_19_time_series/time_series_covid19_deaths_global.csv')"
   ]
  },
  {
   "cell_type": "code",
   "execution_count": 41,
   "metadata": {},
   "outputs": [],
   "source": [
    "START_CASES = 10\n",
    "END_CASES = 500"
   ]
  },
  {
   "cell_type": "code",
   "execution_count": 42,
   "metadata": {},
   "outputs": [],
   "source": [
    "# filter out areas with fewer than 1000 deaths now\n",
    "us_deaths = us_deaths.groupby(by='Province_State').agg('sum')\n",
    "us_deaths = us_deaths[us_deaths[us_deaths.columns[-1]]>=END_CASES]\n",
    "world_deaths = world_deaths[world_deaths[world_deaths.columns[-1]]>=END_CASES]"
   ]
  },
  {
   "cell_type": "code",
   "execution_count": 43,
   "metadata": {},
   "outputs": [],
   "source": [
    "# get days from START_CASES to END_CASES\n",
    "start_date = pd.to_datetime('01-22-2020')\n",
    "world_end_date = world_deaths.columns[-1]\n",
    "us_end_date = us_deaths.columns[-1]"
   ]
  },
  {
   "cell_type": "code",
   "execution_count": 44,
   "metadata": {},
   "outputs": [],
   "source": [
    "# get us_starts and us_ends\n",
    "us_starts = {}\n",
    "us_ends = {}\n",
    "\n",
    "for d in pd.date_range(start_date, us_end_date):\n",
    "    date = f'{d.month}/{d.day}/{str(d.year)[-2:]}'\n",
    "    for state in us_deaths.index:\n",
    "        deaths = us_deaths[date][state]\n",
    "        if state not in us_starts and deaths>=START_CASES:\n",
    "            us_starts[state] = date\n",
    "        if state not in us_ends and deaths>=END_CASES:\n",
    "            us_ends[state] = date"
   ]
  },
  {
   "cell_type": "code",
   "execution_count": 45,
   "metadata": {},
   "outputs": [],
   "source": [
    "# get world_starts and world_ends\n",
    "world_starts = {}\n",
    "world_ends = {}\n",
    "\n",
    "for d in pd.date_range(start_date, world_end_date):\n",
    "    date = f'{d.month}/{d.day}/{str(d.year)[-2:]}'\n",
    "    for country in world_deaths.index:\n",
    "        deaths = world_deaths[date][country]\n",
    "        if country not in world_starts and deaths>=START_CASES:\n",
    "            world_starts[country] = date\n",
    "        if country not in world_ends and deaths>=END_CASES:\n",
    "            world_ends[country] = date"
   ]
  },
  {
   "cell_type": "code",
   "execution_count": 46,
   "metadata": {},
   "outputs": [],
   "source": [
    "# create series of start_dates and end_dates\n",
    "us_start_dates = pd.Series(us_starts)\n",
    "us_start_dates.name = 'start_date'\n",
    "us_end_dates = pd.Series(us_ends)\n",
    "us_end_dates.name = 'end_date'\n",
    "\n",
    "world_start_dates = pd.Series(world_starts)\n",
    "world_start_dates.name = 'start_date'\n",
    "world_end_dates = pd.Series(world_ends)\n",
    "world_end_dates.name = 'end_date'\n",
    ""
   ]
  },
  {
   "cell_type": "code",
   "execution_count": 47,
   "metadata": {},
   "outputs": [
    {
     "output_type": "execute_result",
     "data": {
      "text/plain": "   Province/State Country/Region      Lat     Long  1/22/20  1/23/20  1/24/20  \\\n16            NaN        Austria  47.5162  14.5501        0        0        0   \n23            NaN        Belgium  50.8333   4.0000        0        0        0   \n28            NaN         Brazil -14.2350 -51.9253        0        0        0   \n42        Ontario         Canada  51.2538 -85.3232        0        0        0   \n44         Quebec         Canada  52.9399 -73.5491        0        0        0   \n\n    1/25/20  1/26/20  1/27/20  ...  4/14/20  4/15/20  4/16/20  4/17/20  \\\n16        0        0        0  ...      384      393      410      431   \n23        0        0        0  ...     4157     4440     4857     5163   \n28        0        0        0  ...     1532     1736     1924     2141   \n42        0        0        0  ...      334      385      490      524   \n44        0        0        0  ...      435      487      630      688   \n\n    4/18/20  4/19/20  4/20/20  4/21/20  4/22/20  4/23/20  \n16      443      452      470      491      510      522  \n23     5453     5683     5828     5998     6262     6490  \n28     2354     2462     2587     2741     2906     3331  \n42      564      591      624      694      762      806  \n44      688      820      939     1044     1134     1243  \n\n[5 rows x 97 columns]",
      "text/html": "<div>\n<style scoped>\n    .dataframe tbody tr th:only-of-type {\n        vertical-align: middle;\n    }\n\n    .dataframe tbody tr th {\n        vertical-align: top;\n    }\n\n    .dataframe thead th {\n        text-align: right;\n    }\n</style>\n<table border=\"1\" class=\"dataframe\">\n  <thead>\n    <tr style=\"text-align: right;\">\n      <th></th>\n      <th>Province/State</th>\n      <th>Country/Region</th>\n      <th>Lat</th>\n      <th>Long</th>\n      <th>1/22/20</th>\n      <th>1/23/20</th>\n      <th>1/24/20</th>\n      <th>1/25/20</th>\n      <th>1/26/20</th>\n      <th>1/27/20</th>\n      <th>...</th>\n      <th>4/14/20</th>\n      <th>4/15/20</th>\n      <th>4/16/20</th>\n      <th>4/17/20</th>\n      <th>4/18/20</th>\n      <th>4/19/20</th>\n      <th>4/20/20</th>\n      <th>4/21/20</th>\n      <th>4/22/20</th>\n      <th>4/23/20</th>\n    </tr>\n  </thead>\n  <tbody>\n    <tr>\n      <th>16</th>\n      <td>NaN</td>\n      <td>Austria</td>\n      <td>47.5162</td>\n      <td>14.5501</td>\n      <td>0</td>\n      <td>0</td>\n      <td>0</td>\n      <td>0</td>\n      <td>0</td>\n      <td>0</td>\n      <td>...</td>\n      <td>384</td>\n      <td>393</td>\n      <td>410</td>\n      <td>431</td>\n      <td>443</td>\n      <td>452</td>\n      <td>470</td>\n      <td>491</td>\n      <td>510</td>\n      <td>522</td>\n    </tr>\n    <tr>\n      <th>23</th>\n      <td>NaN</td>\n      <td>Belgium</td>\n      <td>50.8333</td>\n      <td>4.0000</td>\n      <td>0</td>\n      <td>0</td>\n      <td>0</td>\n      <td>0</td>\n      <td>0</td>\n      <td>0</td>\n      <td>...</td>\n      <td>4157</td>\n      <td>4440</td>\n      <td>4857</td>\n      <td>5163</td>\n      <td>5453</td>\n      <td>5683</td>\n      <td>5828</td>\n      <td>5998</td>\n      <td>6262</td>\n      <td>6490</td>\n    </tr>\n    <tr>\n      <th>28</th>\n      <td>NaN</td>\n      <td>Brazil</td>\n      <td>-14.2350</td>\n      <td>-51.9253</td>\n      <td>0</td>\n      <td>0</td>\n      <td>0</td>\n      <td>0</td>\n      <td>0</td>\n      <td>0</td>\n      <td>...</td>\n      <td>1532</td>\n      <td>1736</td>\n      <td>1924</td>\n      <td>2141</td>\n      <td>2354</td>\n      <td>2462</td>\n      <td>2587</td>\n      <td>2741</td>\n      <td>2906</td>\n      <td>3331</td>\n    </tr>\n    <tr>\n      <th>42</th>\n      <td>Ontario</td>\n      <td>Canada</td>\n      <td>51.2538</td>\n      <td>-85.3232</td>\n      <td>0</td>\n      <td>0</td>\n      <td>0</td>\n      <td>0</td>\n      <td>0</td>\n      <td>0</td>\n      <td>...</td>\n      <td>334</td>\n      <td>385</td>\n      <td>490</td>\n      <td>524</td>\n      <td>564</td>\n      <td>591</td>\n      <td>624</td>\n      <td>694</td>\n      <td>762</td>\n      <td>806</td>\n    </tr>\n    <tr>\n      <th>44</th>\n      <td>Quebec</td>\n      <td>Canada</td>\n      <td>52.9399</td>\n      <td>-73.5491</td>\n      <td>0</td>\n      <td>0</td>\n      <td>0</td>\n      <td>0</td>\n      <td>0</td>\n      <td>0</td>\n      <td>...</td>\n      <td>435</td>\n      <td>487</td>\n      <td>630</td>\n      <td>688</td>\n      <td>688</td>\n      <td>820</td>\n      <td>939</td>\n      <td>1044</td>\n      <td>1134</td>\n      <td>1243</td>\n    </tr>\n  </tbody>\n</table>\n<p>5 rows × 97 columns</p>\n</div>"
     },
     "metadata": {},
     "execution_count": 47
    }
   ],
   "source": [
    "world_deaths.head()"
   ]
  },
  {
   "cell_type": "code",
   "execution_count": 48,
   "metadata": {},
   "outputs": [],
   "source": [
    "# add start and end date columns\n",
    "us_deaths = pd.merge(us_deaths, us_start_dates, left_index=True, right_index=True)\n",
    "us_deaths = pd.merge(us_deaths, us_end_dates, left_index=True, right_index=True)\n",
    "\n",
    "world_deaths = pd.merge(world_deaths, world_start_dates, left_index=True, right_index=True)\n",
    "world_deaths = pd.merge(world_deaths, world_end_dates, left_index=True, right_index=True)"
   ]
  },
  {
   "cell_type": "code",
   "execution_count": 49,
   "metadata": {},
   "outputs": [],
   "source": [
    "# getting region name in Region column\n",
    "def get_region(row):\n",
    "    if row['Province/State'] is not np.NaN:\n",
    "        row['Region'] = row['Province/State']+', '+row['Country/Region']\n",
    "    else:\n",
    "        row['Region'] = row['Country/Region']\n",
    "    return row\n",
    "\n",
    "world_deaths = world_deaths.apply(get_region, axis=1)\n",
    "us_deaths['Region'] = us_deaths.index"
   ]
  },
  {
   "cell_type": "code",
   "execution_count": null,
   "metadata": {},
   "outputs": [],
   "source": []
  },
  {
   "cell_type": "code",
   "execution_count": 50,
   "metadata": {},
   "outputs": [],
   "source": [
    "us_drop_cols = ['UID', 'code3', 'FIPS', 'Lat', 'Long_', 'Population']\n",
    "world_drop_cols = ['Lat', 'Long']\n",
    "us_deaths.drop(us_drop_cols, axis='columns', inplace=True)\n",
    "world_deaths.drop(world_drop_cols, axis='columns', inplace=True)"
   ]
  },
  {
   "cell_type": "code",
   "execution_count": 83,
   "metadata": {},
   "outputs": [
    {
     "output_type": "stream",
     "name": "stdout",
     "text": "True\n"
    }
   ],
   "source": [
    "if world_deaths['Country/Region'].str.contains(world_deaths['Country/Region'].iloc[1]).any():\n",
    "    print('True')\n",
    "else:\n",
    "    print('False')"
   ]
  },
  {
   "cell_type": "code",
   "execution_count": 6,
   "metadata": {},
   "outputs": [],
   "source": [
    "# Read country population data, data from here: https://www.worldometers.info/world-population/population-by-country/\n",
    "\n",
    "populations = pd.read_csv('country_populations.csv')"
   ]
  },
  {
   "cell_type": "code",
   "execution_count": 13,
   "metadata": {},
   "outputs": [],
   "source": [
    "pop_density = pd.read_csv('population_density.csv')"
   ]
  },
  {
   "cell_type": "code",
   "execution_count": 7,
   "metadata": {},
   "outputs": [],
   "source": [
    "\n"
   ]
  },
  {
   "cell_type": "code",
   "execution_count": 61,
   "metadata": {},
   "outputs": [],
   "source": [
    "### Getting weather data ###\n",
    "\n",
    "# setup for weather api rewquests\n",
    "# TODO put this in env file or something\n",
    "\n",
    "\n",
    "headers = {\n",
    "    'token': token,\n",
    "}"
   ]
  },
  {
   "cell_type": "code",
   "execution_count": 58,
   "metadata": {},
   "outputs": [],
   "source": [
    "# test = requests.get('https://www.ncdc.noaa.gov/cdo-web/api/v2/datasets?location_id=FIPS:01', headers=headers)\n",
    "# test = requests.get('https://www.ncdc.noaa.gov/cdo-web/api/v2/data?datasetid=GHCND&locationid=FIPS:01&startdate=2010-05-01&enddate=2010-05-02&units=standard&datatypeid=TMAX', headers=headers)\n",
    "# test = requests.get('https://www.ncdc.noaa.gov/cdo-web/api/v2/data?datasetid=GHCND&locationid=ZIP:28801&startdate=2010-05-01&enddate=2010-05-01&units=standard', headers=headers)\n",
    "locations = requests.get('https://www.ncdc.noaa.gov/cdo-web/api/v2/locations?locationcategoryid=CNTRY&limit=1000', headers=headers)\n",
    "location_categories = requests.get('https://www.ncdc.noaa.gov/cdo-web/api/v2/locationcategories', headers=headers)\n",
    ""
   ]
  },
  {
   "cell_type": "code",
   "execution_count": 64,
   "metadata": {},
   "outputs": [],
   "source": [
    "# get state location codes\n",
    "state_res = requests.get('https://www.ncdc.noaa.gov/cdo-web/api/v2/locations?locationcategoryid=ST&limit=52', headers=headers)\n",
    "\n",
    "state_codes = {}\n",
    "for s in state_res.json()['results']:\n",
    "    if s['name'] in us_deaths['Region']:\n",
    "        state_codes[s['name']] = s['id']"
   ]
  },
  {
   "cell_type": "code",
   "execution_count": 84,
   "metadata": {
    "tags": [
     "outputPrepend"
    ]
   },
   "outputs": [
    {
     "output_type": "stream",
     "name": "stdout",
     "text": "'name': 'Belgium', 'datacoverage': 0.9993, 'id': 'FIPS:BE'}\n{'mindate': '1951-01-01', 'maxdate': '2020-04-22', 'name': 'The Bahamas', 'datacoverage': 1, 'id': 'FIPS:BF'}\n{'mindate': '1901-01-01', 'maxdate': '2020-04-18', 'name': 'Bangladesh', 'datacoverage': 1, 'id': 'FIPS:BG'}\n{'mindate': '1960-11-01', 'maxdate': '2020-04-18', 'name': 'Belize', 'datacoverage': 0.7263, 'id': 'FIPS:BH'}\n{'mindate': '1897-10-01', 'maxdate': '2020-04-18', 'name': 'Bosnia & Herzegovina', 'datacoverage': 1, 'id': 'FIPS:BK'}\n{'mindate': '1942-06-01', 'maxdate': '2020-04-18', 'name': 'Bolivia', 'datacoverage': 1, 'id': 'FIPS:BL'}\n{'mindate': '1944-07-13', 'maxdate': '2020-04-18', 'name': 'Myanmar', 'datacoverage': 1, 'id': 'FIPS:BM'}\n{'mindate': '1941-01-01', 'maxdate': '2020-04-18', 'name': 'Benin', 'datacoverage': 1, 'id': 'FIPS:BN'}\n{'mindate': '1875-07-01', 'maxdate': '2020-04-18', 'name': 'Belarus', 'datacoverage': 1, 'id': 'FIPS:BO'}\n{'mindate': '1943-03-16', 'maxdate': '1949-10-31', 'name': 'Solomon Is.', 'datacoverage': 1, 'id': 'FIPS:BP'}\n{'mindate': '1901-01-01', 'maxdate': '2020-04-18', 'name': 'Brazil', 'datacoverage': 1, 'id': 'FIPS:BR'}\n{'mindate': '1901-01-01', 'maxdate': '1957-12-31', 'name': 'Bhutan', 'datacoverage': 0.9927, 'id': 'FIPS:BT'}\n{'mindate': '1952-01-01', 'maxdate': '2020-04-18', 'name': 'Bulgaria', 'datacoverage': 0.9844, 'id': 'FIPS:BU'}\n{'mindate': '1981-01-01', 'maxdate': '2020-04-18', 'name': 'Brunei', 'datacoverage': 1, 'id': 'FIPS:BX'}\n{'mindate': '1950-01-01', 'maxdate': '1989-12-31', 'name': 'Burundi', 'datacoverage': 1, 'id': 'FIPS:BY'}\n{'mindate': '1840-03-01', 'maxdate': '2020-04-22', 'name': 'Canada', 'datacoverage': 1, 'id': 'FIPS:CA'}\n{'mindate': '1950-01-01', 'maxdate': '2020-04-18', 'name': 'Cambodia', 'datacoverage': 1, 'id': 'FIPS:CB'}\n{'mindate': '1950-01-01', 'maxdate': '2020-04-18', 'name': 'Chad', 'datacoverage': 1, 'id': 'FIPS:CD'}\n{'mindate': '1869-02-01', 'maxdate': '2020-04-18', 'name': 'Sri Lanka', 'datacoverage': 1, 'id': 'FIPS:CE'}\n{'mindate': '1947-03-01', 'maxdate': '2020-04-18', 'name': 'Congo', 'datacoverage': 0.9819, 'id': 'FIPS:CF'}\n{'mindate': '1973-02-01', 'maxdate': '2020-04-18', 'name': 'Congo, DRC', 'datacoverage': 1, 'id': 'FIPS:CG'}\n{'mindate': '1881-01-01', 'maxdate': '2020-04-18', 'name': 'China', 'datacoverage': 1, 'id': 'FIPS:CH'}\n{'mindate': '1946-11-13', 'maxdate': '2020-04-18', 'name': 'Chile', 'datacoverage': 1, 'id': 'FIPS:CI'}\n{'mindate': '1966-02-01', 'maxdate': '2020-04-22', 'name': 'Cayman Is.', 'datacoverage': 1, 'id': 'FIPS:CJ'}\n{'mindate': '1948-01-01', 'maxdate': '2020-04-18', 'name': 'Cameroon', 'datacoverage': 1, 'id': 'FIPS:CM'}\n{'mindate': '1941-03-02', 'maxdate': '2020-04-18', 'name': 'Colombia', 'datacoverage': 1, 'id': 'FIPS:CO'}\n{'mindate': '1955-07-04', 'maxdate': '2020-04-18', 'name': 'Costa Rica', 'datacoverage': 1, 'id': 'FIPS:CS'}\n{'mindate': '1950-01-01', 'maxdate': '2020-04-18', 'name': 'Central African Republic', 'datacoverage': 1, 'id': 'FIPS:CT'}\n{'mindate': '1942-07-01', 'maxdate': '2020-04-23', 'name': 'Cuba', 'datacoverage': 1, 'id': 'FIPS:CU'}\n{'mindate': '1973-01-01', 'maxdate': '2020-04-18', 'name': 'Cape Verde', 'datacoverage': 0.9819, 'id': 'FIPS:CV'}\n{'mindate': '1973-01-01', 'maxdate': '2020-04-18', 'name': 'Cook Is.', 'datacoverage': 1, 'id': 'FIPS:CW'}\n{'mindate': '1881-08-01', 'maxdate': '2020-04-18', 'name': 'Cyprus', 'datacoverage': 1, 'id': 'FIPS:CY'}\n{'mindate': '1872-11-01', 'maxdate': '2020-04-18', 'name': 'Denmark', 'datacoverage': 1, 'id': 'FIPS:DA'}\n{'mindate': '1971-07-01', 'maxdate': '2020-04-22', 'name': 'Dominica', 'datacoverage': 1, 'id': 'FIPS:DO'}\n{'mindate': '2010-01-01', 'maxdate': '2010-12-31', 'name': 'Jarvis I.', 'datacoverage': 1, 'id': 'FIPS:DQ'}\n{'mindate': '1965-05-01', 'maxdate': '2020-04-18', 'name': 'Dominican Republic', 'datacoverage': 1, 'id': 'FIPS:DR'}\n{'mindate': '1945-04-01', 'maxdate': '2020-04-17', 'name': 'Ecuador', 'datacoverage': 1, 'id': 'FIPS:EC'}\n{'mindate': '1884-01-01', 'maxdate': '2020-04-18', 'name': 'Egypt', 'datacoverage': 1, 'id': 'FIPS:EG'}\n{'mindate': '1861-01-01', 'maxdate': '2020-04-18', 'name': 'Ireland', 'datacoverage': 1, 'id': 'FIPS:EI'}\n{'mindate': '1996-05-01', 'maxdate': '2020-04-18', 'name': 'Equatorial Guinea', 'datacoverage': 1, 'id': 'FIPS:EK'}\n{'mindate': '1865-12-01', 'maxdate': '2020-04-18', 'name': 'Estonia', 'datacoverage': 1, 'id': 'FIPS:EN'}\n{'mindate': '1943-01-01', 'maxdate': '2014-05-15', 'name': 'Eritrea', 'datacoverage': 0.9963, 'id': 'FIPS:ER'}\n{'mindate': '1956-01-03', 'maxdate': '2020-04-18', 'name': 'El Salvador', 'datacoverage': 1, 'id': 'FIPS:ES'}\n{'mindate': '1951-01-01', 'maxdate': '2020-04-18', 'name': 'Ethiopia', 'datacoverage': 1, 'id': 'FIPS:ET'}\n{'mindate': '1775-01-01', 'maxdate': '2020-04-18', 'name': 'Czech Republic', 'datacoverage': 1, 'id': 'FIPS:EZ'}\n{'mindate': '1908-01-01', 'maxdate': '2020-04-18', 'name': 'Finland', 'datacoverage': 1, 'id': 'FIPS:FI'}\n{'mindate': '1942-04-13', 'maxdate': '2020-04-18', 'name': 'Fiji', 'datacoverage': 0.9955, 'id': 'FIPS:FJ'}\n{'mindate': '1985-07-09', 'maxdate': '2020-04-18', 'name': 'Falkland Is.', 'datacoverage': 0.9956, 'id': 'FIPS:FK'}\n{'mindate': '1946-01-01', 'maxdate': '2020-04-22', 'name': 'Micronesia', 'datacoverage': 1, 'id': 'FIPS:FM'}\n{'mindate': '1973-01-01', 'maxdate': '2020-04-18', 'name': 'Faroe Is.', 'datacoverage': 1, 'id': 'FIPS:FO'}\n{'mindate': '1877-01-01', 'maxdate': '2020-04-23', 'name': 'France', 'datacoverage': 1, 'id': 'FIPS:FR'}\n{'mindate': '1973-01-16', 'maxdate': '2020-04-18', 'name': 'French Southern & Antarctic Lands', 'datacoverage': 0.9986, 'id': 'FIPS:FS'}\n{'mindate': '1973-01-01', 'maxdate': '2020-04-18', 'name': 'The Gambia', 'datacoverage': 1, 'id': 'FIPS:GA'}\n{'mindate': '1950-01-01', 'maxdate': '2020-04-18', 'name': 'Gabon', 'datacoverage': 1, 'id': 'FIPS:GB'}\n{'mindate': '1881-01-01', 'maxdate': '2020-04-18', 'name': 'Georgia', 'datacoverage': 1, 'id': 'FIPS:GG'}\n{'mindate': '1942-09-07', 'maxdate': '2020-04-18', 'name': 'Ghana', 'datacoverage': 1, 'id': 'FIPS:GH'}\n{'mindate': '1958-01-01', 'maxdate': '2020-04-18', 'name': 'Gibraltar', 'datacoverage': 0.9991, 'id': 'FIPS:GI'}\n{'mindate': '1959-12-31', 'maxdate': '2017-12-31', 'name': 'Guernsey', 'datacoverage': 0.9985, 'id': 'FIPS:GK'}\n{'mindate': '1873-06-01', 'maxdate': '2020-04-18', 'name': 'Greenland', 'datacoverage': 1, 'id': 'FIPS:GL'}\n{'mindate': '1781-01-01', 'maxdate': '2020-04-18', 'name': 'Germany', 'datacoverage': 1, 'id': 'FIPS:GM'}\n{'mindate': '1955-01-01', 'maxdate': '2020-04-18', 'name': 'Greece', 'datacoverage': 1, 'id': 'FIPS:GR'}\n{'mindate': '1944-05-01', 'maxdate': '2013-05-31', 'name': 'Guatemala', 'datacoverage': 0.9888, 'id': 'FIPS:GT'}\n{'mindate': '1940-01-01', 'maxdate': '2020-04-18', 'name': 'Guinea', 'datacoverage': 1, 'id': 'FIPS:GV'}\n{'mindate': '1941-08-25', 'maxdate': '2020-04-18', 'name': 'Guyana', 'datacoverage': 1, 'id': 'FIPS:GY'}\n{'mindate': '1908-11-01', 'maxdate': '1948-04-29', 'name': 'Gaza Strip', 'datacoverage': 1, 'id': 'FIPS:GZ'}\n{'mindate': '1998-03-01', 'maxdate': '2012-12-19', 'name': 'Heard I. & McDonald Is.', 'datacoverage': 1, 'id': 'FIPS:HM'}\n{'mindate': '1945-01-01', 'maxdate': '2020-04-18', 'name': 'Honduras', 'datacoverage': 1, 'id': 'FIPS:HO'}\n{'mindate': '1857-12-01', 'maxdate': '2020-04-18', 'name': 'Croatia', 'datacoverage': 1, 'id': 'FIPS:HR'}\n{'mindate': '1901-01-01', 'maxdate': '2020-04-18', 'name': 'Hungary', 'datacoverage': 1, 'id': 'FIPS:HU'}\n{'mindate': '1941-09-01', 'maxdate': '2020-04-22', 'name': 'Iceland', 'datacoverage': 1, 'id': 'FIPS:IC'}\n{'mindate': '1942-11-21', 'maxdate': '2020-04-18', 'name': 'Indonesia', 'datacoverage': 1, 'id': 'FIPS:ID'}\n{'mindate': '1959-12-31', 'maxdate': '2017-12-31', 'name': 'Isle of Man', 'datacoverage': 1, 'id': 'FIPS:IM'}\n{'mindate': '1901-01-01', 'maxdate': '2020-04-18', 'name': 'India', 'datacoverage': 1, 'id': 'FIPS:IN'}\n{'mindate': '1971-07-01', 'maxdate': '2020-04-22', 'name': 'British Indian Ocean Territory', 'datacoverage': 1, 'id': 'FIPS:IO'}\n{'mindate': '1936-02-01', 'maxdate': '2020-04-18', 'name': 'Iran', 'datacoverage': 1, 'id': 'FIPS:IR'}\n{'mindate': '1921-04-01', 'maxdate': '2020-04-18', 'name': 'Israel', 'datacoverage': 1, 'id': 'FIPS:IS'}\n{'mindate': '1763-01-01', 'maxdate': '2020-04-18', 'name': 'Italy', 'datacoverage': 1, 'id': 'FIPS:IT'}\n{'mindate': '1940-01-01', 'maxdate': '2020-04-18', 'name': \"Cote d'Ivoire\", 'datacoverage': 1, 'id': 'FIPS:IV'}\n{'mindate': '1949-11-01', 'maxdate': '2020-04-18', 'name': 'Iraq', 'datacoverage': 1, 'id': 'FIPS:IZ'}\n{'mindate': '1931-01-01', 'maxdate': '2020-04-22', 'name': 'Japan', 'datacoverage': 1, 'id': 'FIPS:JA'}\n{'mindate': '1959-12-31', 'maxdate': '2017-12-31', 'name': 'Jersey', 'datacoverage': 1, 'id': 'FIPS:JE'}\n{'mindate': '1941-12-22', 'maxdate': '2020-04-18', 'name': 'Jamaica', 'datacoverage': 1, 'id': 'FIPS:JM'}\n{'mindate': '1953-12-01', 'maxdate': '2020-04-18', 'name': 'Jordan', 'datacoverage': 1, 'id': 'FIPS:JO'}\n{'mindate': '1935-01-01', 'maxdate': '2020-04-18', 'name': 'Kenya', 'datacoverage': 1, 'id': 'FIPS:KE'}\n{'mindate': '1881-09-01', 'maxdate': '2020-04-18', 'name': 'Kyrgyzstan', 'datacoverage': 1, 'id': 'FIPS:KG'}\n{'mindate': '1950-10-24', 'maxdate': '2020-04-22', 'name': 'North Korea', 'datacoverage': 1, 'id': 'FIPS:KN'}\n{'mindate': '1945-05-01', 'maxdate': '1979-06-30', 'name': 'Kiribati', 'datacoverage': 1, 'id': 'FIPS:KR'}\n{'mindate': '1926-01-01', 'maxdate': '2020-04-22', 'name': 'South Korea', 'datacoverage': 1, 'id': 'FIPS:KS'}\n{'mindate': '1972-09-01', 'maxdate': '2020-04-18', 'name': 'Christmas I.', 'datacoverage': 0.9819, 'id': 'FIPS:KT'}\n{'mindate': '1955-01-01', 'maxdate': '2020-04-18', 'name': 'Kuwait', 'datacoverage': 1, 'id': 'FIPS:KU'}\n{'mindate': '1881-01-01', 'maxdate': '2020-04-18', 'name': 'Kazakhstan', 'datacoverage': 1, 'id': 'FIPS:KZ'}\n{'mindate': '1950-01-08', 'maxdate': '2020-04-18', 'name': 'Laos', 'datacoverage': 1, 'id': 'FIPS:LA'}\n{'mindate': '1912-01-01', 'maxdate': '2020-04-18', 'name': 'Lebanon', 'datacoverage': 1, 'id': 'FIPS:LE'}\n{'mindate': '1881-01-01', 'maxdate': '2020-04-18', 'name': 'Latvia', 'datacoverage': 1, 'id': 'FIPS:LG'}\n{'mindate': '1881-01-01', 'maxdate': '2020-04-18', 'name': 'Lithuania', 'datacoverage': 1, 'id': 'FIPS:LH'}\n{'mindate': '1942-07-06', 'maxdate': '2020-04-18', 'name': 'Liberia', 'datacoverage': 1, 'id': 'FIPS:LI'}\n{'mindate': '1901-01-01', 'maxdate': '2020-04-18', 'name': 'Slovakia', 'datacoverage': 1, 'id': 'FIPS:LO'}\n{'mindate': '1886-09-01', 'maxdate': '1993-12-31', 'name': 'Lesotho', 'datacoverage': 0.9015, 'id': 'FIPS:LT'}\n{'mindate': '1947-01-01', 'maxdate': '2020-04-18', 'name': 'Luxembourg', 'datacoverage': 1, 'id': 'FIPS:LU'}\n{'mindate': '1916-01-01', 'maxdate': '2020-04-15', 'name': 'Libya', 'datacoverage': 1, 'id': 'FIPS:LY'}\n{'mindate': '1973-01-01', 'maxdate': '2020-04-18', 'name': 'Madagascar', 'datacoverage': 1, 'id': 'FIPS:MA'}\n{'mindate': '1886-11-01', 'maxdate': '2020-04-18', 'name': 'Moldova', 'datacoverage': 1, 'id': 'FIPS:MD'}\n{'mindate': '1956-08-01', 'maxdate': '2020-04-18', 'name': 'Mongolia', 'datacoverage': 1, 'id': 'FIPS:MG'}\n{'mindate': '1898-10-01', 'maxdate': '2020-04-15', 'name': 'Malawi', 'datacoverage': 1, 'id': 'FIPS:MI'}\n{'mindate': '1973-01-01', 'maxdate': '2020-04-18', 'name': 'Montenegro', 'datacoverage': 1, 'id': 'FIPS:MJ'}\n{'mindate': '1948-12-01', 'maxdate': '2020-04-18', 'name': 'Macedonia', 'datacoverage': 1, 'id': 'FIPS:MK'}\n{'mindate': '1957-07-01', 'maxdate': '2020-04-18', 'name': 'Mali', 'datacoverage': 1, 'id': 'FIPS:ML'}\n{'mindate': '1910-01-01', 'maxdate': '2020-04-18', 'name': 'Morocco', 'datacoverage': 1, 'id': 'FIPS:MO'}\n{'mindate': '1951-01-01', 'maxdate': '2020-04-18', 'name': 'Mauritius', 'datacoverage': 1, 'id': 'FIPS:MP'}\n{'mindate': '1940-01-01', 'maxdate': '2020-04-18', 'name': 'Mauritania', 'datacoverage': 1, 'id': 'FIPS:MR'}\n{'mindate': '1956-01-01', 'maxdate': '2020-04-18', 'name': 'Malta', 'datacoverage': 0.971, 'id': 'FIPS:MT'}\n{'mindate': '1943-04-13', 'maxdate': '2020-04-18', 'name': 'Oman', 'datacoverage': 1, 'id': 'FIPS:MU'}\n{'mindate': '1902-06-01', 'maxdate': '2020-04-22', 'name': 'Mexico', 'datacoverage': 1, 'id': 'FIPS:MX'}\n{'mindate': '1949-01-01', 'maxdate': '2020-04-18', 'name': 'Malaysia', 'datacoverage': 1, 'id': 'FIPS:MY'}\n{'mindate': '1925-02-01', 'maxdate': '2020-04-18', 'name': 'Mozambique', 'datacoverage': 1, 'id': 'FIPS:MZ'}\n{'mindate': '2001-09-01', 'maxdate': '2018-04-20', 'name': 'Niue', 'datacoverage': 0.91, 'id': 'FIPS:NE'}\n{'mindate': '1947-12-31', 'maxdate': '2020-04-18', 'name': 'Norfolk I.', 'datacoverage': 1, 'id': 'FIPS:NF'}\n{'mindate': '1906-01-01', 'maxdate': '2020-04-18', 'name': 'Niger', 'datacoverage': 1, 'id': 'FIPS:NG'}\n{'mindate': '1973-01-01', 'maxdate': '2020-04-18', 'name': 'Vanuatu', 'datacoverage': 1, 'id': 'FIPS:NH'}\n{'mindate': '1943-05-01', 'maxdate': '2020-04-18', 'name': 'Nigeria', 'datacoverage': 1, 'id': 'FIPS:NI'}\n{'mindate': '1846-12-01', 'maxdate': '2020-04-23', 'name': 'Netherlands', 'datacoverage': 1, 'id': 'FIPS:NL'}\n{'mindate': '1973-04-04', 'maxdate': '2020-04-23', 'name': 'Sint Maarten', 'datacoverage': 1, 'id': 'FIPS:NN'}\n{'mindate': '1876-02-20', 'maxdate': '2020-04-18', 'name': 'Norway', 'datacoverage': 1, 'id': 'FIPS:NO'}\n{'mindate': '1903-02-01', 'maxdate': '2020-04-18', 'name': 'Nepal', 'datacoverage': 1, 'id': 'FIPS:NP'}\n{'mindate': '1942-09-01', 'maxdate': '2020-04-18', 'name': 'Suriname', 'datacoverage': 0.9819, 'id': 'FIPS:NS'}\n{'mindate': '1942-10-01', 'maxdate': '2020-04-18', 'name': 'Nicaragua', 'datacoverage': 1, 'id': 'FIPS:NU'}\n{'mindate': '1940-03-01', 'maxdate': '2020-04-22', 'name': 'New Zealand', 'datacoverage': 1, 'id': 'FIPS:NZ'}\n{'mindate': '1957-07-01', 'maxdate': '2019-10-14', 'name': 'South Sudan', 'datacoverage': 0.9999, 'id': 'FIPS:OD'}\n{'mindate': '1949-01-02', 'maxdate': '2020-04-18', 'name': 'Paraguay', 'datacoverage': 1, 'id': 'FIPS:PA'}\n{'mindate': '1972-01-01', 'maxdate': '2004-10-31', 'name': 'Pitcairn Is.', 'datacoverage': 0.9619, 'id': 'FIPS:PC'}\n{'mindate': '1942-11-01', 'maxdate': '2020-04-18', 'name': 'Peru', 'datacoverage': 1, 'id': 'FIPS:PE'}\n{'mindate': '1901-01-01', 'maxdate': '2020-04-18', 'name': 'Pakistan', 'datacoverage': 1, 'id': 'FIPS:PK'}\n{'mindate': '1931-01-01', 'maxdate': '2020-04-18', 'name': 'Poland', 'datacoverage': 1, 'id': 'FIPS:PL'}\n{'mindate': '1949-01-01', 'maxdate': '1993-12-31', 'name': 'Panama', 'datacoverage': 1, 'id': 'FIPS:PM'}\n{'mindate': '1900-12-01', 'maxdate': '2020-04-18', 'name': 'Portugal', 'datacoverage': 1, 'id': 'FIPS:PO'}\n{'mindate': '1970-01-01', 'maxdate': '2020-04-18', 'name': 'Papua New Guinea', 'datacoverage': 1, 'id': 'FIPS:PP'}\n{'mindate': '1945-01-01', 'maxdate': '2020-04-23', 'name': 'Palau', 'datacoverage': 1, 'id': 'FIPS:PS'}\n{'mindate': '1973-01-01', 'maxdate': '2020-04-18', 'name': 'Guinea-Bissau', 'datacoverage': 1, 'id': 'FIPS:PU'}\n{'mindate': '1983-01-01', 'maxdate': '2020-04-18', 'name': 'Qatar', 'datacoverage': 0.9936, 'id': 'FIPS:QA'}\n{'mindate': '1935-12-01', 'maxdate': '2020-04-18', 'name': 'Serbia', 'datacoverage': 1, 'id': 'FIPS:RB'}\n{'mindate': '1973-01-01', 'maxdate': '2020-04-18', 'name': 'Reunion', 'datacoverage': 1, 'id': 'FIPS:RE'}\n{'mindate': '1945-01-01', 'maxdate': '2020-04-23', 'name': 'Marshall Is.', 'datacoverage': 1, 'id': 'FIPS:RM'}\n{'mindate': '1880-01-01', 'maxdate': '2020-04-18', 'name': 'Romania', 'datacoverage': 1, 'id': 'FIPS:RO'}\n{'mindate': '1944-10-22', 'maxdate': '2020-04-22', 'name': 'Philippines', 'datacoverage': 1, 'id': 'FIPS:RP'}\n{'mindate': '1874-10-01', 'maxdate': '2020-04-22', 'name': 'Russia', 'datacoverage': 1, 'id': 'FIPS:RS'}\n{'mindate': '1973-06-01', 'maxdate': '2020-04-18', 'name': 'Rwanda', 'datacoverage': 0.6945, 'id': 'FIPS:RW'}\n{'mindate': '1946-02-14', 'maxdate': '2020-04-18', 'name': 'Saudi Arabia', 'datacoverage': 1, 'id': 'FIPS:SA'}\n{'mindate': '1850-01-01', 'maxdate': '2020-04-18', 'name': 'South Africa', 'datacoverage': 1, 'id': 'FIPS:SF'}\n{'mindate': '1857-03-01', 'maxdate': '2020-04-18', 'name': 'Senegal', 'datacoverage': 1, 'id': 'FIPS:SG'}\n{'mindate': '1957-09-01', 'maxdate': '2001-12-31', 'name': 'St. Helena', 'datacoverage': 1, 'id': 'FIPS:SH'}\n{'mindate': '1899-12-01', 'maxdate': '2020-04-18', 'name': 'Slovenia', 'datacoverage': 1, 'id': 'FIPS:SI'}\n{'mindate': '1973-01-01', 'maxdate': '2020-04-08', 'name': 'Sierra Leone', 'datacoverage': 1, 'id': 'FIPS:SL'}\n{'mindate': '1962-05-01', 'maxdate': '2020-04-18', 'name': 'Singapore', 'datacoverage': 0.9973, 'id': 'FIPS:SN'}\n{'mindate': '1896-11-01', 'maxdate': '2020-04-22', 'name': 'Spain', 'datacoverage': 1, 'id': 'FIPS:SP'}\n{'mindate': '1948-12-01', 'maxdate': '2020-04-22', 'name': 'St. Lucia', 'datacoverage': 1, 'id': 'FIPS:ST'}\n{'mindate': '1942-11-01', 'maxdate': '2020-04-18', 'name': 'Sudan', 'datacoverage': 1, 'id': 'FIPS:SU'}\n{'mindate': '1858-11-01', 'maxdate': '2020-04-18', 'name': 'Sweden', 'datacoverage': 1, 'id': 'FIPS:SW'}\n{'mindate': '1914-01-01', 'maxdate': '2020-04-18', 'name': 'Syria', 'datacoverage': 1, 'id': 'FIPS:SY'}\n{'mindate': '1882-09-01', 'maxdate': '2020-04-18', 'name': 'Switzerland', 'datacoverage': 1, 'id': 'FIPS:SZ'}\n{'mindate': '1945-03-01', 'maxdate': '2020-04-23', 'name': 'Trinidad & Tobago', 'datacoverage': 1, 'id': 'FIPS:TD'}\n{'mindate': '1943-01-01', 'maxdate': '2020-04-18', 'name': 'Thailand', 'datacoverage': 1, 'id': 'FIPS:TH'}\n{'mindate': '1895-01-01', 'maxdate': '2020-04-18', 'name': 'Tajikistan', 'datacoverage': 1, 'id': 'FIPS:TI'}\n{'mindate': '1954-11-01', 'maxdate': '1970-12-31', 'name': 'Turks & Caicos Is.', 'datacoverage': 0.9948, 'id': 'FIPS:TK'}\n{'mindate': '1973-01-01', 'maxdate': '2020-04-22', 'name': 'Tonga', 'datacoverage': 0.89, 'id': 'FIPS:TN'}\n{'mindate': '1945-01-01', 'maxdate': '2020-04-18', 'name': 'Togo', 'datacoverage': 1, 'id': 'FIPS:TO'}\n{'mindate': '1886-03-01', 'maxdate': '2020-04-18', 'name': 'Tunisia', 'datacoverage': 1, 'id': 'FIPS:TS'}\n{'mindate': '1929-01-01', 'maxdate': '2020-04-18', 'name': 'Turkey', 'datacoverage': 1, 'id': 'FIPS:TU'}\n{'mindate': '1883-08-01', 'maxdate': '2020-04-18', 'name': 'Turkmenistan', 'datacoverage': 1, 'id': 'FIPS:TX'}\n{'mindate': '1950-01-01', 'maxdate': '2020-04-18', 'name': 'Tanzania', 'datacoverage': 1, 'id': 'FIPS:TZ'}\n{'mindate': '1942-09-01', 'maxdate': '2016-03-01', 'name': 'Curacao', 'datacoverage': 1, 'id': 'FIPS:UC'}\n{'mindate': '1926-01-01', 'maxdate': '1986-12-31', 'name': 'Uganda', 'datacoverage': 0.9951, 'id': 'FIPS:UG'}\n{'mindate': '1814-12-31', 'maxdate': '2020-04-18', 'name': 'United Kingdom', 'datacoverage': 1, 'id': 'FIPS:UK'}\n{'mindate': '1879-02-01', 'maxdate': '2020-04-18', 'name': 'Ukraine', 'datacoverage': 1, 'id': 'FIPS:UP'}\n{'mindate': '1831-02-01', 'maxdate': '2020-04-23', 'name': 'United States', 'datacoverage': 1, 'id': 'FIPS:US'}\n{'mindate': '1940-01-01', 'maxdate': '2020-04-18', 'name': 'Burkina Faso', 'datacoverage': 1, 'id': 'FIPS:UV'}\n{'mindate': '1931-01-01', 'maxdate': '2020-04-18', 'name': 'Uruguay', 'datacoverage': 1, 'id': 'FIPS:UY'}\n{'mindate': '1881-01-01', 'maxdate': '2020-04-18', 'name': 'Uzbekistan', 'datacoverage': 1, 'id': 'FIPS:UZ'}\n{'mindate': '2005-01-01', 'maxdate': '2019-12-13', 'name': 'St. Vincent & the Grenadines', 'datacoverage': 0.45, 'id': 'FIPS:VC'}\n{'mindate': '1950-01-01', 'maxdate': '2020-04-18', 'name': 'Venezuela', 'datacoverage': 1, 'id': 'FIPS:VE'}\n{'mindate': '1997-07-07', 'maxdate': '2020-04-22', 'name': 'British Virgin Is.', 'datacoverage': 0.95, 'id': 'FIPS:VI'}\n{'mindate': '1951-01-01', 'maxdate': '2020-04-18', 'name': 'Vietnam', 'datacoverage': 1, 'id': 'FIPS:VM'}\n{'mindate': '1913-01-01', 'maxdate': '2020-04-18', 'name': 'Namibia', 'datacoverage': 1, 'id': 'FIPS:WA'}\n{'mindate': '1903-07-01', 'maxdate': '2020-03-20', 'name': 'Swaziland', 'datacoverage': 1, 'id': 'FIPS:WZ'}\n{'mindate': '1950-01-01', 'maxdate': '2020-04-03', 'name': 'Zambia', 'datacoverage': 1, 'id': 'FIPS:ZA'}\n{'mindate': '1951-07-01', 'maxdate': '2020-04-18', 'name': 'Zimbabwe', 'datacoverage': 1, 'id': 'FIPS:ZI'}\n"
    }
   ],
   "source": [
    "# get country location codes\n",
    "country_res = requests.get('https://www.ncdc.noaa.gov/cdo-web/api/v2/locations?locationcategoryid=CNTRY&limit=1000', headers=headers)\n",
    "\n",
    "country_codes = {}\n",
    "for c in country_res.json()['results']:\n",
    "    print(c)\n",
    "    if world_deaths['Country/Region'].str.contains(c['name']).any():\n",
    "        country_codes[c['name']] = s['id']"
   ]
  },
  {
   "cell_type": "code",
   "execution_count": 85,
   "metadata": {},
   "outputs": [
    {
     "output_type": "execute_result",
     "data": {
      "text/plain": "{'Austria': 'FIPS:56',\n 'Belgium': 'FIPS:56',\n 'Brazil': 'FIPS:56',\n 'Canada': 'FIPS:56',\n 'China': 'FIPS:56',\n 'Ecuador': 'FIPS:56',\n 'Ireland': 'FIPS:56',\n 'France': 'FIPS:56',\n 'Germany': 'FIPS:56',\n 'Indonesia': 'FIPS:56',\n 'India': 'FIPS:56',\n 'Iran': 'FIPS:56',\n 'Italy': 'FIPS:56',\n 'Mexico': 'FIPS:56',\n 'Netherlands': 'FIPS:56',\n 'Peru': 'FIPS:56',\n 'Portugal': 'FIPS:56',\n 'Romania': 'FIPS:56',\n 'Russia': 'FIPS:56',\n 'Spain': 'FIPS:56',\n 'Sweden': 'FIPS:56',\n 'Switzerland': 'FIPS:56',\n 'Turkey': 'FIPS:56',\n 'United Kingdom': 'FIPS:56'}"
     },
     "metadata": {},
     "execution_count": 85
    }
   ],
   "source": []
  },
  {
   "cell_type": "code",
   "execution_count": 69,
   "metadata": {},
   "outputs": [
    {
     "output_type": "execute_result",
     "data": {
      "text/plain": "    Province/State Country/Region  1/22/20  1/23/20  1/24/20  1/25/20  \\\n16             NaN        Austria        0        0        0        0   \n23             NaN        Belgium        0        0        0        0   \n28             NaN         Brazil        0        0        0        0   \n42         Ontario         Canada        0        0        0        0   \n44          Quebec         Canada        0        0        0        0   \n62           Hubei          China       17       17       24       40   \n97             NaN        Ecuador        0        0        0        0   \n116            NaN         France        0        0        0        0   \n120            NaN        Germany        0        0        0        0   \n131            NaN          India        0        0        0        0   \n132            NaN      Indonesia        0        0        0        0   \n133            NaN           Iran        0        0        0        0   \n135            NaN        Ireland        0        0        0        0   \n137            NaN          Italy        0        0        0        0   \n158            NaN         Mexico        0        0        0        0   \n169            NaN    Netherlands        0        0        0        0   \n181            NaN           Peru        0        0        0        0   \n184            NaN       Portugal        0        0        0        0   \n186            NaN        Romania        0        0        0        0   \n187            NaN         Russia        0        0        0        0   \n\n     1/26/20  1/27/20  1/28/20  1/29/20  ...  4/17/20  4/18/20  4/19/20  \\\n16         0        0        0        0  ...      431      443      452   \n23         0        0        0        0  ...     5163     5453     5683   \n28         0        0        0        0  ...     2141     2354     2462   \n42         0        0        0        0  ...      524      564      591   \n44         0        0        0        0  ...      688      688      820   \n62        52       76      125      125  ...     4512     4512     4512   \n97         0        0        0        0  ...      421      456      474   \n116        0        0        0        0  ...    18681    19323    19718   \n120        0        0        0        0  ...     4352     4459     4586   \n131        0        0        0        0  ...      486      521      559   \n132        0        0        0        0  ...      520      535      582   \n133        0        0        0        0  ...     4958     5031     5118   \n135        0        0        0        0  ...      530      571      610   \n137        0        0        0        0  ...    22745    23227    23660   \n158        0        0        0        0  ...      486      546      650   \n169        0        0        0        0  ...     3459     3601     3684   \n181        0        0        0        0  ...      300      348      400   \n184        0        0        0        0  ...      657      687      714   \n186        0        0        0        0  ...      411      421      451   \n187        0        0        0        0  ...      273      313      361   \n\n     4/20/20  4/21/20  4/22/20  4/23/20  start_date  end_date           Region  \n16       470      491      510      522     3/22/20   4/22/20          Austria  \n23      5828     5998     6262     6490     3/17/20   3/30/20          Belgium  \n28      2587     2741     2906     3331     3/20/20    4/6/20           Brazil  \n42       624      694      762      806     3/26/20   4/17/20  Ontario, Canada  \n44       939     1044     1134     1243     3/27/20   4/16/20   Quebec, Canada  \n62      4512     4512     4512     4512     1/22/20    2/5/20     Hubei, China  \n97       507      520      537      560     3/22/20   4/20/20          Ecuador  \n116    20265    20796    21340    21856      3/7/20   3/21/20           France  \n120     4862     5033     5279     5575     3/15/20   3/29/20          Germany  \n131      592      645      681      721     3/23/20   4/18/20            India  \n132      590      616      635      647     3/18/20   4/17/20        Indonesia  \n133     5209     5297     5391     5481     2/24/20   3/13/20             Iran  \n135      687      730      769      794     3/26/20   4/17/20          Ireland  \n137    24114    24648    25085    25549     2/25/20   3/10/20            Italy  \n158      686      712      857     1069     3/28/20   4/18/20           Mexico  \n169     3751     3916     4054     4177     3/13/20   3/27/20      Netherlands  \n181      445      484      530      572     3/27/20   4/22/20             Peru  \n184      735      762      785      820     3/21/20   4/12/20         Portugal  \n186      478      498      524      545     3/24/20   4/22/20          Romania  \n187      405      456      513      555     3/31/20   4/22/20           Russia  \n\n[20 rows x 98 columns]",
      "text/html": "<div>\n<style scoped>\n    .dataframe tbody tr th:only-of-type {\n        vertical-align: middle;\n    }\n\n    .dataframe tbody tr th {\n        vertical-align: top;\n    }\n\n    .dataframe thead th {\n        text-align: right;\n    }\n</style>\n<table border=\"1\" class=\"dataframe\">\n  <thead>\n    <tr style=\"text-align: right;\">\n      <th></th>\n      <th>Province/State</th>\n      <th>Country/Region</th>\n      <th>1/22/20</th>\n      <th>1/23/20</th>\n      <th>1/24/20</th>\n      <th>1/25/20</th>\n      <th>1/26/20</th>\n      <th>1/27/20</th>\n      <th>1/28/20</th>\n      <th>1/29/20</th>\n      <th>...</th>\n      <th>4/17/20</th>\n      <th>4/18/20</th>\n      <th>4/19/20</th>\n      <th>4/20/20</th>\n      <th>4/21/20</th>\n      <th>4/22/20</th>\n      <th>4/23/20</th>\n      <th>start_date</th>\n      <th>end_date</th>\n      <th>Region</th>\n    </tr>\n  </thead>\n  <tbody>\n    <tr>\n      <th>16</th>\n      <td>NaN</td>\n      <td>Austria</td>\n      <td>0</td>\n      <td>0</td>\n      <td>0</td>\n      <td>0</td>\n      <td>0</td>\n      <td>0</td>\n      <td>0</td>\n      <td>0</td>\n      <td>...</td>\n      <td>431</td>\n      <td>443</td>\n      <td>452</td>\n      <td>470</td>\n      <td>491</td>\n      <td>510</td>\n      <td>522</td>\n      <td>3/22/20</td>\n      <td>4/22/20</td>\n      <td>Austria</td>\n    </tr>\n    <tr>\n      <th>23</th>\n      <td>NaN</td>\n      <td>Belgium</td>\n      <td>0</td>\n      <td>0</td>\n      <td>0</td>\n      <td>0</td>\n      <td>0</td>\n      <td>0</td>\n      <td>0</td>\n      <td>0</td>\n      <td>...</td>\n      <td>5163</td>\n      <td>5453</td>\n      <td>5683</td>\n      <td>5828</td>\n      <td>5998</td>\n      <td>6262</td>\n      <td>6490</td>\n      <td>3/17/20</td>\n      <td>3/30/20</td>\n      <td>Belgium</td>\n    </tr>\n    <tr>\n      <th>28</th>\n      <td>NaN</td>\n      <td>Brazil</td>\n      <td>0</td>\n      <td>0</td>\n      <td>0</td>\n      <td>0</td>\n      <td>0</td>\n      <td>0</td>\n      <td>0</td>\n      <td>0</td>\n      <td>...</td>\n      <td>2141</td>\n      <td>2354</td>\n      <td>2462</td>\n      <td>2587</td>\n      <td>2741</td>\n      <td>2906</td>\n      <td>3331</td>\n      <td>3/20/20</td>\n      <td>4/6/20</td>\n      <td>Brazil</td>\n    </tr>\n    <tr>\n      <th>42</th>\n      <td>Ontario</td>\n      <td>Canada</td>\n      <td>0</td>\n      <td>0</td>\n      <td>0</td>\n      <td>0</td>\n      <td>0</td>\n      <td>0</td>\n      <td>0</td>\n      <td>0</td>\n      <td>...</td>\n      <td>524</td>\n      <td>564</td>\n      <td>591</td>\n      <td>624</td>\n      <td>694</td>\n      <td>762</td>\n      <td>806</td>\n      <td>3/26/20</td>\n      <td>4/17/20</td>\n      <td>Ontario, Canada</td>\n    </tr>\n    <tr>\n      <th>44</th>\n      <td>Quebec</td>\n      <td>Canada</td>\n      <td>0</td>\n      <td>0</td>\n      <td>0</td>\n      <td>0</td>\n      <td>0</td>\n      <td>0</td>\n      <td>0</td>\n      <td>0</td>\n      <td>...</td>\n      <td>688</td>\n      <td>688</td>\n      <td>820</td>\n      <td>939</td>\n      <td>1044</td>\n      <td>1134</td>\n      <td>1243</td>\n      <td>3/27/20</td>\n      <td>4/16/20</td>\n      <td>Quebec, Canada</td>\n    </tr>\n    <tr>\n      <th>62</th>\n      <td>Hubei</td>\n      <td>China</td>\n      <td>17</td>\n      <td>17</td>\n      <td>24</td>\n      <td>40</td>\n      <td>52</td>\n      <td>76</td>\n      <td>125</td>\n      <td>125</td>\n      <td>...</td>\n      <td>4512</td>\n      <td>4512</td>\n      <td>4512</td>\n      <td>4512</td>\n      <td>4512</td>\n      <td>4512</td>\n      <td>4512</td>\n      <td>1/22/20</td>\n      <td>2/5/20</td>\n      <td>Hubei, China</td>\n    </tr>\n    <tr>\n      <th>97</th>\n      <td>NaN</td>\n      <td>Ecuador</td>\n      <td>0</td>\n      <td>0</td>\n      <td>0</td>\n      <td>0</td>\n      <td>0</td>\n      <td>0</td>\n      <td>0</td>\n      <td>0</td>\n      <td>...</td>\n      <td>421</td>\n      <td>456</td>\n      <td>474</td>\n      <td>507</td>\n      <td>520</td>\n      <td>537</td>\n      <td>560</td>\n      <td>3/22/20</td>\n      <td>4/20/20</td>\n      <td>Ecuador</td>\n    </tr>\n    <tr>\n      <th>116</th>\n      <td>NaN</td>\n      <td>France</td>\n      <td>0</td>\n      <td>0</td>\n      <td>0</td>\n      <td>0</td>\n      <td>0</td>\n      <td>0</td>\n      <td>0</td>\n      <td>0</td>\n      <td>...</td>\n      <td>18681</td>\n      <td>19323</td>\n      <td>19718</td>\n      <td>20265</td>\n      <td>20796</td>\n      <td>21340</td>\n      <td>21856</td>\n      <td>3/7/20</td>\n      <td>3/21/20</td>\n      <td>France</td>\n    </tr>\n    <tr>\n      <th>120</th>\n      <td>NaN</td>\n      <td>Germany</td>\n      <td>0</td>\n      <td>0</td>\n      <td>0</td>\n      <td>0</td>\n      <td>0</td>\n      <td>0</td>\n      <td>0</td>\n      <td>0</td>\n      <td>...</td>\n      <td>4352</td>\n      <td>4459</td>\n      <td>4586</td>\n      <td>4862</td>\n      <td>5033</td>\n      <td>5279</td>\n      <td>5575</td>\n      <td>3/15/20</td>\n      <td>3/29/20</td>\n      <td>Germany</td>\n    </tr>\n    <tr>\n      <th>131</th>\n      <td>NaN</td>\n      <td>India</td>\n      <td>0</td>\n      <td>0</td>\n      <td>0</td>\n      <td>0</td>\n      <td>0</td>\n      <td>0</td>\n      <td>0</td>\n      <td>0</td>\n      <td>...</td>\n      <td>486</td>\n      <td>521</td>\n      <td>559</td>\n      <td>592</td>\n      <td>645</td>\n      <td>681</td>\n      <td>721</td>\n      <td>3/23/20</td>\n      <td>4/18/20</td>\n      <td>India</td>\n    </tr>\n    <tr>\n      <th>132</th>\n      <td>NaN</td>\n      <td>Indonesia</td>\n      <td>0</td>\n      <td>0</td>\n      <td>0</td>\n      <td>0</td>\n      <td>0</td>\n      <td>0</td>\n      <td>0</td>\n      <td>0</td>\n      <td>...</td>\n      <td>520</td>\n      <td>535</td>\n      <td>582</td>\n      <td>590</td>\n      <td>616</td>\n      <td>635</td>\n      <td>647</td>\n      <td>3/18/20</td>\n      <td>4/17/20</td>\n      <td>Indonesia</td>\n    </tr>\n    <tr>\n      <th>133</th>\n      <td>NaN</td>\n      <td>Iran</td>\n      <td>0</td>\n      <td>0</td>\n      <td>0</td>\n      <td>0</td>\n      <td>0</td>\n      <td>0</td>\n      <td>0</td>\n      <td>0</td>\n      <td>...</td>\n      <td>4958</td>\n      <td>5031</td>\n      <td>5118</td>\n      <td>5209</td>\n      <td>5297</td>\n      <td>5391</td>\n      <td>5481</td>\n      <td>2/24/20</td>\n      <td>3/13/20</td>\n      <td>Iran</td>\n    </tr>\n    <tr>\n      <th>135</th>\n      <td>NaN</td>\n      <td>Ireland</td>\n      <td>0</td>\n      <td>0</td>\n      <td>0</td>\n      <td>0</td>\n      <td>0</td>\n      <td>0</td>\n      <td>0</td>\n      <td>0</td>\n      <td>...</td>\n      <td>530</td>\n      <td>571</td>\n      <td>610</td>\n      <td>687</td>\n      <td>730</td>\n      <td>769</td>\n      <td>794</td>\n      <td>3/26/20</td>\n      <td>4/17/20</td>\n      <td>Ireland</td>\n    </tr>\n    <tr>\n      <th>137</th>\n      <td>NaN</td>\n      <td>Italy</td>\n      <td>0</td>\n      <td>0</td>\n      <td>0</td>\n      <td>0</td>\n      <td>0</td>\n      <td>0</td>\n      <td>0</td>\n      <td>0</td>\n      <td>...</td>\n      <td>22745</td>\n      <td>23227</td>\n      <td>23660</td>\n      <td>24114</td>\n      <td>24648</td>\n      <td>25085</td>\n      <td>25549</td>\n      <td>2/25/20</td>\n      <td>3/10/20</td>\n      <td>Italy</td>\n    </tr>\n    <tr>\n      <th>158</th>\n      <td>NaN</td>\n      <td>Mexico</td>\n      <td>0</td>\n      <td>0</td>\n      <td>0</td>\n      <td>0</td>\n      <td>0</td>\n      <td>0</td>\n      <td>0</td>\n      <td>0</td>\n      <td>...</td>\n      <td>486</td>\n      <td>546</td>\n      <td>650</td>\n      <td>686</td>\n      <td>712</td>\n      <td>857</td>\n      <td>1069</td>\n      <td>3/28/20</td>\n      <td>4/18/20</td>\n      <td>Mexico</td>\n    </tr>\n    <tr>\n      <th>169</th>\n      <td>NaN</td>\n      <td>Netherlands</td>\n      <td>0</td>\n      <td>0</td>\n      <td>0</td>\n      <td>0</td>\n      <td>0</td>\n      <td>0</td>\n      <td>0</td>\n      <td>0</td>\n      <td>...</td>\n      <td>3459</td>\n      <td>3601</td>\n      <td>3684</td>\n      <td>3751</td>\n      <td>3916</td>\n      <td>4054</td>\n      <td>4177</td>\n      <td>3/13/20</td>\n      <td>3/27/20</td>\n      <td>Netherlands</td>\n    </tr>\n    <tr>\n      <th>181</th>\n      <td>NaN</td>\n      <td>Peru</td>\n      <td>0</td>\n      <td>0</td>\n      <td>0</td>\n      <td>0</td>\n      <td>0</td>\n      <td>0</td>\n      <td>0</td>\n      <td>0</td>\n      <td>...</td>\n      <td>300</td>\n      <td>348</td>\n      <td>400</td>\n      <td>445</td>\n      <td>484</td>\n      <td>530</td>\n      <td>572</td>\n      <td>3/27/20</td>\n      <td>4/22/20</td>\n      <td>Peru</td>\n    </tr>\n    <tr>\n      <th>184</th>\n      <td>NaN</td>\n      <td>Portugal</td>\n      <td>0</td>\n      <td>0</td>\n      <td>0</td>\n      <td>0</td>\n      <td>0</td>\n      <td>0</td>\n      <td>0</td>\n      <td>0</td>\n      <td>...</td>\n      <td>657</td>\n      <td>687</td>\n      <td>714</td>\n      <td>735</td>\n      <td>762</td>\n      <td>785</td>\n      <td>820</td>\n      <td>3/21/20</td>\n      <td>4/12/20</td>\n      <td>Portugal</td>\n    </tr>\n    <tr>\n      <th>186</th>\n      <td>NaN</td>\n      <td>Romania</td>\n      <td>0</td>\n      <td>0</td>\n      <td>0</td>\n      <td>0</td>\n      <td>0</td>\n      <td>0</td>\n      <td>0</td>\n      <td>0</td>\n      <td>...</td>\n      <td>411</td>\n      <td>421</td>\n      <td>451</td>\n      <td>478</td>\n      <td>498</td>\n      <td>524</td>\n      <td>545</td>\n      <td>3/24/20</td>\n      <td>4/22/20</td>\n      <td>Romania</td>\n    </tr>\n    <tr>\n      <th>187</th>\n      <td>NaN</td>\n      <td>Russia</td>\n      <td>0</td>\n      <td>0</td>\n      <td>0</td>\n      <td>0</td>\n      <td>0</td>\n      <td>0</td>\n      <td>0</td>\n      <td>0</td>\n      <td>...</td>\n      <td>273</td>\n      <td>313</td>\n      <td>361</td>\n      <td>405</td>\n      <td>456</td>\n      <td>513</td>\n      <td>555</td>\n      <td>3/31/20</td>\n      <td>4/22/20</td>\n      <td>Russia</td>\n    </tr>\n  </tbody>\n</table>\n<p>20 rows × 98 columns</p>\n</div>"
     },
     "metadata": {},
     "execution_count": 69
    }
   ],
   "source": [
    "world_deaths.head(20)"
   ]
  },
  {
   "cell_type": "code",
   "execution_count": 67,
   "metadata": {},
   "outputs": [
    {
     "output_type": "execute_result",
     "data": {
      "text/plain": "'mindate': '1966-02-01',\n   'maxdate': '2020-04-22',\n   'name': 'Cayman Is.',\n   'datacoverage': 1,\n   'id': 'FIPS:CJ'},\n  {'mindate': '1948-01-01',\n   'maxdate': '2020-04-18',\n   'name': 'Cameroon',\n   'datacoverage': 1,\n   'id': 'FIPS:CM'},\n  {'mindate': '1941-03-02',\n   'maxdate': '2020-04-18',\n   'name': 'Colombia',\n   'datacoverage': 1,\n   'id': 'FIPS:CO'},\n  {'mindate': '1955-07-04',\n   'maxdate': '2020-04-18',\n   'name': 'Costa Rica',\n   'datacoverage': 1,\n   'id': 'FIPS:CS'},\n  {'mindate': '1950-01-01',\n   'maxdate': '2020-04-18',\n   'name': 'Central African Republic',\n   'datacoverage': 1,\n   'id': 'FIPS:CT'},\n  {'mindate': '1942-07-01',\n   'maxdate': '2020-04-23',\n   'name': 'Cuba',\n   'datacoverage': 1,\n   'id': 'FIPS:CU'},\n  {'mindate': '1973-01-01',\n   'maxdate': '2020-04-18',\n   'name': 'Cape Verde',\n   'datacoverage': 0.9819,\n   'id': 'FIPS:CV'},\n  {'mindate': '1973-01-01',\n   'maxdate': '2020-04-18',\n   'name': 'Cook Is.',\n   'datacoverage': 1,\n   'id': 'FIPS:CW'},\n  {'mindate': '1881-08-01',\n   'maxdate': '2020-04-18',\n   'name': 'Cyprus',\n   'datacoverage': 1,\n   'id': 'FIPS:CY'},\n  {'mindate': '1872-11-01',\n   'maxdate': '2020-04-18',\n   'name': 'Denmark',\n   'datacoverage': 1,\n   'id': 'FIPS:DA'},\n  {'mindate': '1971-07-01',\n   'maxdate': '2020-04-22',\n   'name': 'Dominica',\n   'datacoverage': 1,\n   'id': 'FIPS:DO'},\n  {'mindate': '2010-01-01',\n   'maxdate': '2010-12-31',\n   'name': 'Jarvis I.',\n   'datacoverage': 1,\n   'id': 'FIPS:DQ'},\n  {'mindate': '1965-05-01',\n   'maxdate': '2020-04-18',\n   'name': 'Dominican Republic',\n   'datacoverage': 1,\n   'id': 'FIPS:DR'},\n  {'mindate': '1945-04-01',\n   'maxdate': '2020-04-17',\n   'name': 'Ecuador',\n   'datacoverage': 1,\n   'id': 'FIPS:EC'},\n  {'mindate': '1884-01-01',\n   'maxdate': '2020-04-18',\n   'name': 'Egypt',\n   'datacoverage': 1,\n   'id': 'FIPS:EG'},\n  {'mindate': '1861-01-01',\n   'maxdate': '2020-04-18',\n   'name': 'Ireland',\n   'datacoverage': 1,\n   'id': 'FIPS:EI'},\n  {'mindate': '1996-05-01',\n   'maxdate': '2020-04-18',\n   'name': 'Equatorial Guinea',\n   'datacoverage': 1,\n   'id': 'FIPS:EK'},\n  {'mindate': '1865-12-01',\n   'maxdate': '2020-04-18',\n   'name': 'Estonia',\n   'datacoverage': 1,\n   'id': 'FIPS:EN'},\n  {'mindate': '1943-01-01',\n   'maxdate': '2014-05-15',\n   'name': 'Eritrea',\n   'datacoverage': 0.9963,\n   'id': 'FIPS:ER'},\n  {'mindate': '1956-01-03',\n   'maxdate': '2020-04-18',\n   'name': 'El Salvador',\n   'datacoverage': 1,\n   'id': 'FIPS:ES'},\n  {'mindate': '1951-01-01',\n   'maxdate': '2020-04-18',\n   'name': 'Ethiopia',\n   'datacoverage': 1,\n   'id': 'FIPS:ET'},\n  {'mindate': '1775-01-01',\n   'maxdate': '2020-04-18',\n   'name': 'Czech Republic',\n   'datacoverage': 1,\n   'id': 'FIPS:EZ'},\n  {'mindate': '1908-01-01',\n   'maxdate': '2020-04-18',\n   'name': 'Finland',\n   'datacoverage': 1,\n   'id': 'FIPS:FI'},\n  {'mindate': '1942-04-13',\n   'maxdate': '2020-04-18',\n   'name': 'Fiji',\n   'datacoverage': 0.9955,\n   'id': 'FIPS:FJ'},\n  {'mindate': '1985-07-09',\n   'maxdate': '2020-04-18',\n   'name': 'Falkland Is.',\n   'datacoverage': 0.9956,\n   'id': 'FIPS:FK'},\n  {'mindate': '1946-01-01',\n   'maxdate': '2020-04-22',\n   'name': 'Micronesia',\n   'datacoverage': 1,\n   'id': 'FIPS:FM'},\n  {'mindate': '1973-01-01',\n   'maxdate': '2020-04-18',\n   'name': 'Faroe Is.',\n   'datacoverage': 1,\n   'id': 'FIPS:FO'},\n  {'mindate': '1877-01-01',\n   'maxdate': '2020-04-23',\n   'name': 'France',\n   'datacoverage': 1,\n   'id': 'FIPS:FR'},\n  {'mindate': '1973-01-16',\n   'maxdate': '2020-04-18',\n   'name': 'French Southern & Antarctic Lands',\n   'datacoverage': 0.9986,\n   'id': 'FIPS:FS'},\n  {'mindate': '1973-01-01',\n   'maxdate': '2020-04-18',\n   'name': 'The Gambia',\n   'datacoverage': 1,\n   'id': 'FIPS:GA'},\n  {'mindate': '1950-01-01',\n   'maxdate': '2020-04-18',\n   'name': 'Gabon',\n   'datacoverage': 1,\n   'id': 'FIPS:GB'},\n  {'mindate': '1881-01-01',\n   'maxdate': '2020-04-18',\n   'name': 'Georgia',\n   'datacoverage': 1,\n   'id': 'FIPS:GG'},\n  {'mindate': '1942-09-07',\n   'maxdate': '2020-04-18',\n   'name': 'Ghana',\n   'datacoverage': 1,\n   'id': 'FIPS:GH'},\n  {'mindate': '1958-01-01',\n   'maxdate': '2020-04-18',\n   'name': 'Gibraltar',\n   'datacoverage': 0.9991,\n   'id': 'FIPS:GI'},\n  {'mindate': '1959-12-31',\n   'maxdate': '2017-12-31',\n   'name': 'Guernsey',\n   'datacoverage': 0.9985,\n   'id': 'FIPS:GK'},\n  {'mindate': '1873-06-01',\n   'maxdate': '2020-04-18',\n   'name': 'Greenland',\n   'datacoverage': 1,\n   'id': 'FIPS:GL'},\n  {'mindate': '1781-01-01',\n   'maxdate': '2020-04-18',\n   'name': 'Germany',\n   'datacoverage': 1,\n   'id': 'FIPS:GM'},\n  {'mindate': '1955-01-01',\n   'maxdate': '2020-04-18',\n   'name': 'Greece',\n   'datacoverage': 1,\n   'id': 'FIPS:GR'},\n  {'mindate': '1944-05-01',\n   'maxdate': '2013-05-31',\n   'name': 'Guatemala',\n   'datacoverage': 0.9888,\n   'id': 'FIPS:GT'},\n  {'mindate': '1940-01-01',\n   'maxdate': '2020-04-18',\n   'name': 'Guinea',\n   'datacoverage': 1,\n   'id': 'FIPS:GV'},\n  {'mindate': '1941-08-25',\n   'maxdate': '2020-04-18',\n   'name': 'Guyana',\n   'datacoverage': 1,\n   'id': 'FIPS:GY'},\n  {'mindate': '1908-11-01',\n   'maxdate': '1948-04-29',\n   'name': 'Gaza Strip',\n   'datacoverage': 1,\n   'id': 'FIPS:GZ'},\n  {'mindate': '1998-03-01',\n   'maxdate': '2012-12-19',\n   'name': 'Heard I. & McDonald Is.',\n   'datacoverage': 1,\n   'id': 'FIPS:HM'},\n  {'mindate': '1945-01-01',\n   'maxdate': '2020-04-18',\n   'name': 'Honduras',\n   'datacoverage': 1,\n   'id': 'FIPS:HO'},\n  {'mindate': '1857-12-01',\n   'maxdate': '2020-04-18',\n   'name': 'Croatia',\n   'datacoverage': 1,\n   'id': 'FIPS:HR'},\n  {'mindate': '1901-01-01',\n   'maxdate': '2020-04-18',\n   'name': 'Hungary',\n   'datacoverage': 1,\n   'id': 'FIPS:HU'},\n  {'mindate': '1941-09-01',\n   'maxdate': '2020-04-22',\n   'name': 'Iceland',\n   'datacoverage': 1,\n   'id': 'FIPS:IC'},\n  {'mindate': '1942-11-21',\n   'maxdate': '2020-04-18',\n   'name': 'Indonesia',\n   'datacoverage': 1,\n   'id': 'FIPS:ID'},\n  {'mindate': '1959-12-31',\n   'maxdate': '2017-12-31',\n   'name': 'Isle of Man',\n   'datacoverage': 1,\n   'id': 'FIPS:IM'},\n  {'mindate': '1901-01-01',\n   'maxdate': '2020-04-18',\n   'name': 'India',\n   'datacoverage': 1,\n   'id': 'FIPS:IN'},\n  {'mindate': '1971-07-01',\n   'maxdate': '2020-04-22',\n   'name': 'British Indian Ocean Territory',\n   'datacoverage': 1,\n   'id': 'FIPS:IO'},\n  {'mindate': '1936-02-01',\n   'maxdate': '2020-04-18',\n   'name': 'Iran',\n   'datacoverage': 1,\n   'id': 'FIPS:IR'},\n  {'mindate': '1921-04-01',\n   'maxdate': '2020-04-18',\n   'name': 'Israel',\n   'datacoverage': 1,\n   'id': 'FIPS:IS'},\n  {'mindate': '1763-01-01',\n   'maxdate': '2020-04-18',\n   'name': 'Italy',\n   'datacoverage': 1,\n   'id': 'FIPS:IT'},\n  {'mindate': '1940-01-01',\n   'maxdate': '2020-04-18',\n   'name': \"Cote d'Ivoire\",\n   'datacoverage': 1,\n   'id': 'FIPS:IV'},\n  {'mindate': '1949-11-01',\n   'maxdate': '2020-04-18',\n   'name': 'Iraq',\n   'datacoverage': 1,\n   'id': 'FIPS:IZ'},\n  {'mindate': '1931-01-01',\n   'maxdate': '2020-04-22',\n   'name': 'Japan',\n   'datacoverage': 1,\n   'id': 'FIPS:JA'},\n  {'mindate': '1959-12-31',\n   'maxdate': '2017-12-31',\n   'name': 'Jersey',\n   'datacoverage': 1,\n   'id': 'FIPS:JE'},\n  {'mindate': '1941-12-22',\n   'maxdate': '2020-04-18',\n   'name': 'Jamaica',\n   'datacoverage': 1,\n   'id': 'FIPS:JM'},\n  {'mindate': '1953-12-01',\n   'maxdate': '2020-04-18',\n   'name': 'Jordan',\n   'datacoverage': 1,\n   'id': 'FIPS:JO'},\n  {'mindate': '1935-01-01',\n   'maxdate': '2020-04-18',\n   'name': 'Kenya',\n   'datacoverage': 1,\n   'id': 'FIPS:KE'},\n  {'mindate': '1881-09-01',\n   'maxdate': '2020-04-18',\n   'name': 'Kyrgyzstan',\n   'datacoverage': 1,\n   'id': 'FIPS:KG'},\n  {'mindate': '1950-10-24',\n   'maxdate': '2020-04-22',\n   'name': 'North Korea',\n   'datacoverage': 1,\n   'id': 'FIPS:KN'},\n  {'mindate': '1945-05-01',\n   'maxdate': '1979-06-30',\n   'name': 'Kiribati',\n   'datacoverage': 1,\n   'id': 'FIPS:KR'},\n  {'mindate': '1926-01-01',\n   'maxdate': '2020-04-22',\n   'name': 'South Korea',\n   'datacoverage': 1,\n   'id': 'FIPS:KS'},\n  {'mindate': '1972-09-01',\n   'maxdate': '2020-04-18',\n   'name': 'Christmas I.',\n   'datacoverage': 0.9819,\n   'id': 'FIPS:KT'},\n  {'mindate': '1955-01-01',\n   'maxdate': '2020-04-18',\n   'name': 'Kuwait',\n   'datacoverage': 1,\n   'id': 'FIPS:KU'},\n  {'mindate': '1881-01-01',\n   'maxdate': '2020-04-18',\n   'name': 'Kazakhstan',\n   'datacoverage': 1,\n   'id': 'FIPS:KZ'},\n  {'mindate': '1950-01-08',\n   'maxdate': '2020-04-18',\n   'name': 'Laos',\n   'datacoverage': 1,\n   'id': 'FIPS:LA'},\n  {'mindate': '1912-01-01',\n   'maxdate': '2020-04-18',\n   'name': 'Lebanon',\n   'datacoverage': 1,\n   'id': 'FIPS:LE'},\n  {'mindate': '1881-01-01',\n   'maxdate': '2020-04-18',\n   'name': 'Latvia',\n   'datacoverage': 1,\n   'id': 'FIPS:LG'},\n  {'mindate': '1881-01-01',\n   'maxdate': '2020-04-18',\n   'name': 'Lithuania',\n   'datacoverage': 1,\n   'id': 'FIPS:LH'},\n  {'mindate': '1942-07-06',\n   'maxdate': '2020-04-18',\n   'name': 'Liberia',\n   'datacoverage': 1,\n   'id': 'FIPS:LI'},\n  {'mindate': '1901-01-01',\n   'maxdate': '2020-04-18',\n   'name': 'Slovakia',\n   'datacoverage': 1,\n   'id': 'FIPS:LO'},\n  {'mindate': '1886-09-01',\n   'maxdate': '1993-12-31',\n   'name': 'Lesotho',\n   'datacoverage': 0.9015,\n   'id': 'FIPS:LT'},\n  {'mindate': '1947-01-01',\n   'maxdate': '2020-04-18',\n   'name': 'Luxembourg',\n   'datacoverage': 1,\n   'id': 'FIPS:LU'},\n  {'mindate': '1916-01-01',\n   'maxdate': '2020-04-15',\n   'name': 'Libya',\n   'datacoverage': 1,\n   'id': 'FIPS:LY'},\n  {'mindate': '1973-01-01',\n   'maxdate': '2020-04-18',\n   'name': 'Madagascar',\n   'datacoverage': 1,\n   'id': 'FIPS:MA'},\n  {'mindate': '1886-11-01',\n   'maxdate': '2020-04-18',\n   'name': 'Moldova',\n   'datacoverage': 1,\n   'id': 'FIPS:MD'},\n  {'mindate': '1956-08-01',\n   'maxdate': '2020-04-18',\n   'name': 'Mongolia',\n   'datacoverage': 1,\n   'id': 'FIPS:MG'},\n  {'mindate': '1898-10-01',\n   'maxdate': '2020-04-15',\n   'name': 'Malawi',\n   'datacoverage': 1,\n   'id': 'FIPS:MI'},\n  {'mindate': '1973-01-01',\n   'maxdate': '2020-04-18',\n   'name': 'Montenegro',\n   'datacoverage': 1,\n   'id': 'FIPS:MJ'},\n  {'mindate': '1948-12-01',\n   'maxdate': '2020-04-18',\n   'name': 'Macedonia',\n   'datacoverage': 1,\n   'id': 'FIPS:MK'},\n  {'mindate': '1957-07-01',\n   'maxdate': '2020-04-18',\n   'name': 'Mali',\n   'datacoverage': 1,\n   'id': 'FIPS:ML'},\n  {'mindate': '1910-01-01',\n   'maxdate': '2020-04-18',\n   'name': 'Morocco',\n   'datacoverage': 1,\n   'id': 'FIPS:MO'},\n  {'mindate': '1951-01-01',\n   'maxdate': '2020-04-18',\n   'name': 'Mauritius',\n   'datacoverage': 1,\n   'id': 'FIPS:MP'},\n  {'mindate': '1940-01-01',\n   'maxdate': '2020-04-18',\n   'name': 'Mauritania',\n   'datacoverage': 1,\n   'id': 'FIPS:MR'},\n  {'mindate': '1956-01-01',\n   'maxdate': '2020-04-18',\n   'name': 'Malta',\n   'datacoverage': 0.971,\n   'id': 'FIPS:MT'},\n  {'mindate': '1943-04-13',\n   'maxdate': '2020-04-18',\n   'name': 'Oman',\n   'datacoverage': 1,\n   'id': 'FIPS:MU'},\n  {'mindate': '1902-06-01',\n   'maxdate': '2020-04-22',\n   'name': 'Mexico',\n   'datacoverage': 1,\n   'id': 'FIPS:MX'},\n  {'mindate': '1949-01-01',\n   'maxdate': '2020-04-18',\n   'name': 'Malaysia',\n   'datacoverage': 1,\n   'id': 'FIPS:MY'},\n  {'mindate': '1925-02-01',\n   'maxdate': '2020-04-18',\n   'name': 'Mozambique',\n   'datacoverage': 1,\n   'id': 'FIPS:MZ'},\n  {'mindate': '2001-09-01',\n   'maxdate': '2018-04-20',\n   'name': 'Niue',\n   'datacoverage': 0.91,\n   'id': 'FIPS:NE'},\n  {'mindate': '1947-12-31',\n   'maxdate': '2020-04-18',\n   'name': 'Norfolk I.',\n   'datacoverage': 1,\n   'id': 'FIPS:NF'},\n  {'mindate': '1906-01-01',\n   'maxdate': '2020-04-18',\n   'name': 'Niger',\n   'datacoverage': 1,\n   'id': 'FIPS:NG'},\n  {'mindate': '1973-01-01',\n   'maxdate': '2020-04-18',\n   'name': 'Vanuatu',\n   'datacoverage': 1,\n   'id': 'FIPS:NH'},\n  {'mindate': '1943-05-01',\n   'maxdate': '2020-04-18',\n   'name': 'Nigeria',\n   'datacoverage': 1,\n   'id': 'FIPS:NI'},\n  {'mindate': '1846-12-01',\n   'maxdate': '2020-04-23',\n   'name': 'Netherlands',\n   'datacoverage': 1,\n   'id': 'FIPS:NL'},\n  {'mindate': '1973-04-04',\n   'maxdate': '2020-04-23',\n   'name': 'Sint Maarten',\n   'datacoverage': 1,\n   'id': 'FIPS:NN'},\n  {'mindate': '1876-02-20',\n   'maxdate': '2020-04-18',\n   'name': 'Norway',\n   'datacoverage': 1,\n   'id': 'FIPS:NO'},\n  {'mindate': '1903-02-01',\n   'maxdate': '2020-04-18',\n   'name': 'Nepal',\n   'datacoverage': 1,\n   'id': 'FIPS:NP'},\n  {'mindate': '1942-09-01',\n   'maxdate': '2020-04-18',\n   'name': 'Suriname',\n   'datacoverage': 0.9819,\n   'id': 'FIPS:NS'},\n  {'mindate': '1942-10-01',\n   'maxdate': '2020-04-18',\n   'name': 'Nicaragua',\n   'datacoverage': 1,\n   'id': 'FIPS:NU'},\n  {'mindate': '1940-03-01',\n   'maxdate': '2020-04-22',\n   'name': 'New Zealand',\n   'datacoverage': 1,\n   'id': 'FIPS:NZ'},\n  {'mindate': '1957-07-01',\n   'maxdate': '2019-10-14',\n   'name': 'South Sudan',\n   'datacoverage': 0.9999,\n   'id': 'FIPS:OD'},\n  {'mindate': '1949-01-02',\n   'maxdate': '2020-04-18',\n   'name': 'Paraguay',\n   'datacoverage': 1,\n   'id': 'FIPS:PA'},\n  {'mindate': '1972-01-01',\n   'maxdate': '2004-10-31',\n   'name': 'Pitcairn Is.',\n   'datacoverage': 0.9619,\n   'id': 'FIPS:PC'},\n  {'mindate': '1942-11-01',\n   'maxdate': '2020-04-18',\n   'name': 'Peru',\n   'datacoverage': 1,\n   'id': 'FIPS:PE'},\n  {'mindate': '1901-01-01',\n   'maxdate': '2020-04-18',\n   'name': 'Pakistan',\n   'datacoverage': 1,\n   'id': 'FIPS:PK'},\n  {'mindate': '1931-01-01',\n   'maxdate': '2020-04-18',\n   'name': 'Poland',\n   'datacoverage': 1,\n   'id': 'FIPS:PL'},\n  {'mindate': '1949-01-01',\n   'maxdate': '1993-12-31',\n   'name': 'Panama',\n   'datacoverage': 1,\n   'id': 'FIPS:PM'},\n  {'mindate': '1900-12-01',\n   'maxdate': '2020-04-18',\n   'name': 'Portugal',\n   'datacoverage': 1,\n   'id': 'FIPS:PO'},\n  {'mindate': '1970-01-01',\n   'maxdate': '2020-04-18',\n   'name': 'Papua New Guinea',\n   'datacoverage': 1,\n   'id': 'FIPS:PP'},\n  {'mindate': '1945-01-01',\n   'maxdate': '2020-04-23',\n   'name': 'Palau',\n   'datacoverage': 1,\n   'id': 'FIPS:PS'},\n  {'mindate': '1973-01-01',\n   'maxdate': '2020-04-18',\n   'name': 'Guinea-Bissau',\n   'datacoverage': 1,\n   'id': 'FIPS:PU'},\n  {'mindate': '1983-01-01',\n   'maxdate': '2020-04-18',\n   'name': 'Qatar',\n   'datacoverage': 0.9936,\n   'id': 'FIPS:QA'},\n  {'mindate': '1935-12-01',\n   'maxdate': '2020-04-18',\n   'name': 'Serbia',\n   'datacoverage': 1,\n   'id': 'FIPS:RB'},\n  {'mindate': '1973-01-01',\n   'maxdate': '2020-04-18',\n   'name': 'Reunion',\n   'datacoverage': 1,\n   'id': 'FIPS:RE'},\n  {'mindate': '1945-01-01',\n   'maxdate': '2020-04-23',\n   'name': 'Marshall Is.',\n   'datacoverage': 1,\n   'id': 'FIPS:RM'},\n  {'mindate': '1880-01-01',\n   'maxdate': '2020-04-18',\n   'name': 'Romania',\n   'datacoverage': 1,\n   'id': 'FIPS:RO'},\n  {'mindate': '1944-10-22',\n   'maxdate': '2020-04-22',\n   'name': 'Philippines',\n   'datacoverage': 1,\n   'id': 'FIPS:RP'},\n  {'mindate': '1874-10-01',\n   'maxdate': '2020-04-22',\n   'name': 'Russia',\n   'datacoverage': 1,\n   'id': 'FIPS:RS'},\n  {'mindate': '1973-06-01',\n   'maxdate': '2020-04-18',\n   'name': 'Rwanda',\n   'datacoverage': 0.6945,\n   'id': 'FIPS:RW'},\n  {'mindate': '1946-02-14',\n   'maxdate': '2020-04-18',\n   'name': 'Saudi Arabia',\n   'datacoverage': 1,\n   'id': 'FIPS:SA'},\n  {'mindate': '1850-01-01',\n   'maxdate': '2020-04-18',\n   'name': 'South Africa',\n   'datacoverage': 1,\n   'id': 'FIPS:SF'},\n  {'mindate': '1857-03-01',\n   'maxdate': '2020-04-18',\n   'name': 'Senegal',\n   'datacoverage': 1,\n   'id': 'FIPS:SG'},\n  {'mindate': '1957-09-01',\n   'maxdate': '2001-12-31',\n   'name': 'St. Helena',\n   'datacoverage': 1,\n   'id': 'FIPS:SH'},\n  {'mindate': '1899-12-01',\n   'maxdate': '2020-04-18',\n   'name': 'Slovenia',\n   'datacoverage': 1,\n   'id': 'FIPS:SI'},\n  {'mindate': '1973-01-01',\n   'maxdate': '2020-04-08',\n   'name': 'Sierra Leone',\n   'datacoverage': 1,\n   'id': 'FIPS:SL'},\n  {'mindate': '1962-05-01',\n   'maxdate': '2020-04-18',\n   'name': 'Singapore',\n   'datacoverage': 0.9973,\n   'id': 'FIPS:SN'},\n  {'mindate': '1896-11-01',\n   'maxdate': '2020-04-22',\n   'name': 'Spain',\n   'datacoverage': 1,\n   'id': 'FIPS:SP'},\n  {'mindate': '1948-12-01',\n   'maxdate': '2020-04-22',\n   'name': 'St. Lucia',\n   'datacoverage': 1,\n   'id': 'FIPS:ST'},\n  {'mindate': '1942-11-01',\n   'maxdate': '2020-04-18',\n   'name': 'Sudan',\n   'datacoverage': 1,\n   'id': 'FIPS:SU'},\n  {'mindate': '1858-11-01',\n   'maxdate': '2020-04-18',\n   'name': 'Sweden',\n   'datacoverage': 1,\n   'id': 'FIPS:SW'},\n  {'mindate': '1914-01-01',\n   'maxdate': '2020-04-18',\n   'name': 'Syria',\n   'datacoverage': 1,\n   'id': 'FIPS:SY'},\n  {'mindate': '1882-09-01',\n   'maxdate': '2020-04-18',\n   'name': 'Switzerland',\n   'datacoverage': 1,\n   'id': 'FIPS:SZ'},\n  {'mindate': '1945-03-01',\n   'maxdate': '2020-04-23',\n   'name': 'Trinidad & Tobago',\n   'datacoverage': 1,\n   'id': 'FIPS:TD'},\n  {'mindate': '1943-01-01',\n   'maxdate': '2020-04-18',\n   'name': 'Thailand',\n   'datacoverage': 1,\n   'id': 'FIPS:TH'},\n  {'mindate': '1895-01-01',\n   'maxdate': '2020-04-18',\n   'name': 'Tajikistan',\n   'datacoverage': 1,\n   'id': 'FIPS:TI'},\n  {'mindate': '1954-11-01',\n   'maxdate': '1970-12-31',\n   'name': 'Turks & Caicos Is.',\n   'datacoverage': 0.9948,\n   'id': 'FIPS:TK'},\n  {'mindate': '1973-01-01',\n   'maxdate': '2020-04-22',\n   'name': 'Tonga',\n   'datacoverage': 0.89,\n   'id': 'FIPS:TN'},\n  {'mindate': '1945-01-01',\n   'maxdate': '2020-04-18',\n   'name': 'Togo',\n   'datacoverage': 1,\n   'id': 'FIPS:TO'},\n  {'mindate': '1886-03-01',\n   'maxdate': '2020-04-18',\n   'name': 'Tunisia',\n   'datacoverage': 1,\n   'id': 'FIPS:TS'},\n  {'mindate': '1929-01-01',\n   'maxdate': '2020-04-18',\n   'name': 'Turkey',\n   'datacoverage': 1,\n   'id': 'FIPS:TU'},\n  {'mindate': '1883-08-01',\n   'maxdate': '2020-04-18',\n   'name': 'Turkmenistan',\n   'datacoverage': 1,\n   'id': 'FIPS:TX'},\n  {'mindate': '1950-01-01',\n   'maxdate': '2020-04-18',\n   'name': 'Tanzania',\n   'datacoverage': 1,\n   'id': 'FIPS:TZ'},\n  {'mindate': '1942-09-01',\n   'maxdate': '2016-03-01',\n   'name': 'Curacao',\n   'datacoverage': 1,\n   'id': 'FIPS:UC'},\n  {'mindate': '1926-01-01',\n   'maxdate': '1986-12-31',\n   'name': 'Uganda',\n   'datacoverage': 0.9951,\n   'id': 'FIPS:UG'},\n  {'mindate': '1814-12-31',\n   'maxdate': '2020-04-18',\n   'name': 'United Kingdom',\n   'datacoverage': 1,\n   'id': 'FIPS:UK'},\n  {'mindate': '1879-02-01',\n   'maxdate': '2020-04-18',\n   'name': 'Ukraine',\n   'datacoverage': 1,\n   'id': 'FIPS:UP'},\n  {'mindate': '1831-02-01',\n   'maxdate': '2020-04-23',\n   'name': 'United States',\n   'datacoverage': 1,\n   'id': 'FIPS:US'},\n  {'mindate': '1940-01-01',\n   'maxdate': '2020-04-18',\n   'name': 'Burkina Faso',\n   'datacoverage': 1,\n   'id': 'FIPS:UV'},\n  {'mindate': '1931-01-01',\n   'maxdate': '2020-04-18',\n   'name': 'Uruguay',\n   'datacoverage': 1,\n   'id': 'FIPS:UY'},\n  {'mindate': '1881-01-01',\n   'maxdate': '2020-04-18',\n   'name': 'Uzbekistan',\n   'datacoverage': 1,\n   'id': 'FIPS:UZ'},\n  {'mindate': '2005-01-01',\n   'maxdate': '2019-12-13',\n   'name': 'St. Vincent & the Grenadines',\n   'datacoverage': 0.45,\n   'id': 'FIPS:VC'},\n  {'mindate': '1950-01-01',\n   'maxdate': '2020-04-18',\n   'name': 'Venezuela',\n   'datacoverage': 1,\n   'id': 'FIPS:VE'},\n  {'mindate': '1997-07-07',\n   'maxdate': '2020-04-22',\n   'name': 'British Virgin Is.',\n   'datacoverage': 0.95,\n   'id': 'FIPS:VI'},\n  {'mindate': '1951-01-01',\n   'maxdate': '2020-04-18',\n   'name': 'Vietnam',\n   'datacoverage': 1,\n   'id': 'FIPS:VM'},\n  {'mindate': '1913-01-01',\n   'maxdate': '2020-04-18',\n   'name': 'Namibia',\n   'datacoverage': 1,\n   'id': 'FIPS:WA'},\n  {'mindate': '1903-07-01',\n   'maxdate': '2020-03-20',\n   'name': 'Swaziland',\n   'datacoverage': 1,\n   'id': 'FIPS:WZ'},\n  {'mindate': '1950-01-01',\n   'maxdate': '2020-04-03',\n   'name': 'Zambia',\n   'datacoverage': 1,\n   'id': 'FIPS:ZA'},\n  {'mindate': '1951-07-01',\n   'maxdate': '2020-04-18',\n   'name': 'Zimbabwe',\n   'datacoverage': 1,\n   'id': 'FIPS:ZI'}]}"
     },
     "metadata": {},
     "execution_count": 67
    }
   ],
   "source": [
    "country_res.json()"
   ]
  },
  {
   "cell_type": "code",
   "execution_count": 65,
   "metadata": {},
   "outputs": [
    {
     "output_type": "execute_result",
     "data": {
      "text/plain": "{'California': 'FIPS:06',\n 'Colorado': 'FIPS:08',\n 'Connecticut': 'FIPS:09',\n 'Florida': 'FIPS:12',\n 'Georgia': 'FIPS:13',\n 'Illinois': 'FIPS:17',\n 'Indiana': 'FIPS:18',\n 'Louisiana': 'FIPS:22',\n 'Maryland': 'FIPS:24',\n 'Massachusetts': 'FIPS:25',\n 'Michigan': 'FIPS:26',\n 'New Jersey': 'FIPS:34',\n 'New York': 'FIPS:36',\n 'Ohio': 'FIPS:39',\n 'Pennsylvania': 'FIPS:42',\n 'Texas': 'FIPS:48',\n 'Washington': 'FIPS:53'}"
     },
     "metadata": {},
     "execution_count": 65
    }
   ],
   "source": [
    "state_codes"
   ]
  },
  {
   "cell_type": "code",
   "execution_count": null,
   "metadata": {},
   "outputs": [],
   "source": []
  }
 ]
}